{
 "cells": [
  {
   "cell_type": "markdown",
   "id": "63db1439",
   "metadata": {},
   "source": [
    "# Créer les données"
   ]
  },
  {
   "cell_type": "markdown",
   "id": "3483b157",
   "metadata": {},
   "source": [
    "## Générer les product_ids et prix de manière cohérente"
   ]
  },
  {
   "cell_type": "code",
   "execution_count": 186,
   "id": "92c72f6e",
   "metadata": {},
   "outputs": [],
   "source": [
    "import random\n",
    "import datetime\n",
    "import pandas as pd\n",
    "\n",
    "# Avec une dict-comprehension\n",
    "product_ids = list(range(1, 113))\n",
    "price_per_id = {\n",
    "    product_id: round(random.uniform(1.15, 100.45), 2)\n",
    "    for product_id in product_ids\n",
    "}\n",
    "\n",
    "\n",
    "# _id = 1\n",
    "# price_per_id = {}\n",
    "# while _id <= 112:\n",
    "#    price_per_id[_id] = round(random.uniform(1.15, 100.45), 2)\n",
    "#    _id = _id + 1\n",
    "\n",
    "first_day = datetime.datetime(\n",
    "        year=2023, \n",
    "        month=1, \n",
    "        day=1\n",
    "    )\n",
    "last_day = datetime.datetime(\n",
    "        year=2023, \n",
    "        month=1, \n",
    "        day=31,\n",
    "        hour=23,\n",
    "        minute=59,\n",
    "        second=59\n",
    "    )\n",
    "\n",
    "seconds_in_between = (last_day - first_day).total_seconds()\n",
    "\n",
    "records = []\n",
    "for trial in range(10_000):\n",
    "    transaction_id = trial\n",
    "    product_id = random.choice(product_ids)\n",
    "    unit_price = price_per_id[product_id]\n",
    "    quantity = random.randint(1, 100) # le dernier est bien inclus\n",
    "    \n",
    "    datetime_ = first_day + datetime.timedelta(\n",
    "        seconds=random.randint(0, seconds_in_between)\n",
    "        )\n",
    "    \n",
    "    record = {\n",
    "     #   \"id\": transaction_id,\n",
    "        \"product_id\":product_id,\n",
    "        \"unit_price\":unit_price,\n",
    "        \"quantity\":quantity,\n",
    "        \"datetime\":datetime_,\n",
    "    }\n",
    "    records.append(record)\n",
    "    \n",
    "    \n",
    "import sqlite3\n",
    " \n",
    "# Connecting to sqlite\n",
    "# connection object\n",
    "conn = sqlite3.connect('my.db')\n",
    "\n",
    "c = conn.cursor()\n",
    "c.execute(\"DROP TABLE IF EXISTS transactions;\")\n",
    "\n",
    "create_table = \"\"\"CREATE TABLE IF NOT EXISTS transactions (\n",
    "                    id integer PRIMARY KEY AUTOINCREMENT,\n",
    "                    product_id integer,\n",
    "                    unit_price FLOAT,\n",
    "                    quantity integer,\n",
    "                    datetime DATETIME\n",
    "                ); \"\"\"\n",
    "\n",
    "c.execute(create_table)\n",
    "\n",
    "\n",
    "# Insertion des enregistrements dans la table transaction\n",
    "for record in records:\n",
    "    row = (record['product_id'], record['quantity'], record['unit_price'], str(record['datetime']))\n",
    "    c.execute(\"INSERT INTO 'transactions' (product_id, quantity, unit_price, datetime) VALUES (?, ?, ?, ?)\", row)\n",
    "    conn.commit()\n",
    "\n",
    "conn.close()"
   ]
  },
  {
   "cell_type": "code",
   "execution_count": 268,
   "id": "20c13ca9",
   "metadata": {},
   "outputs": [],
   "source": [
    "conn = sqlite3.connect('my.db')\n",
    "\n",
    "class TransactionManager:\n",
    "    def __init__(self, conn):\n",
    "        self.conn = conn\n",
    "    \n",
    "    def read(self, _id:int):\n",
    "        \n",
    "        if not isinstance(_id, int):\n",
    "            raise TypeError(f'{_id} is not an integer.')\n",
    "        \n",
    "        sql = \"SELECT * FROM transactions WHERE id = ?\"\n",
    "        c = self.conn.cursor()\n",
    "        c.execute(sql, (_id,))\n",
    "        item = c.fetchone()\n",
    "        \n",
    "        if item is None:\n",
    "            raise ValueError(f'{_id} is not an existing id in transactions table.')\n",
    "        \n",
    "        return item\n",
    "    \n",
    "\n",
    "    def create(self, record):\n",
    "        sql = \"INSERT INTO 'transactions' (product_id, quantity, unit_price, datetime) VALUES (?, ?, ?, ?)\"\n",
    "        values = ( record['product_id'], record['quantity'], record['unit_price'], str(record['datetime']))\n",
    "        c = self.conn.cursor()\n",
    "        c.execute(sql, values)\n",
    "        self.conn.commit()\n",
    "        \n",
    "        return cursor.lastrowid\n",
    "    \n",
    "    \n",
    "    def update(self, _id, partial_record):\n",
    "        block_set = \" , \".join(\n",
    "            [\n",
    "               f\"{key} =  ?\" for key in partial_record\n",
    "            ]\n",
    "        )\n",
    "                    \n",
    "        sql = f'''UPDATE transactions SET {block_set} WHERE id = {_id}'''        \n",
    "        # Même ordre que dans block_set : (nom des colonnes et valeurs)\n",
    "        values = tuple(partial_record.get(key) for key in partial_record)\n",
    "\n",
    "        c = self.conn.cursor()\n",
    "        c.execute(sql, values)\n",
    "        self.conn.commit()\n",
    "        \n",
    "        return _id\n",
    "    "
   ]
  },
  {
   "cell_type": "code",
   "execution_count": 203,
   "id": "0171ab1e",
   "metadata": {},
   "outputs": [
    {
     "data": {
      "text/plain": [
       "10000"
      ]
     },
     "execution_count": 203,
     "metadata": {},
     "output_type": "execute_result"
    }
   ],
   "source": [
    "\n",
    "tm = TransactionManager(conn=conn)\n",
    "\n",
    "\n",
    "row = tm.read(123)\n",
    "\n",
    "\n",
    "# Création d'un enregistrement\n",
    "record = {\n",
    "    'product_id': 42,\n",
    "    'quantity': 5,\n",
    "    'unit_price': 10.99,\n",
    "    'datetime': '2023-05-30 12:00:00'\n",
    "}\n",
    "created_id = tm.create(record)\n",
    "    \n",
    "created_id\n",
    "\n",
    "\n",
    "tm.update(\n",
    "    1110,\n",
    "    { \n",
    "        \"datetime\":'2023-08-30 12:00:00' ,\n",
    "        \"quantity\": 28,\n",
    "        \"unit_price\": 17.21\n",
    "    }\n",
    ")"
   ]
  },
  {
   "cell_type": "code",
   "execution_count": 198,
   "id": "eb66673a",
   "metadata": {},
   "outputs": [
    {
     "data": {
      "text/plain": [
       "10000"
      ]
     },
     "execution_count": 198,
     "metadata": {},
     "output_type": "execute_result"
    }
   ],
   "source": []
  },
  {
   "cell_type": "code",
   "execution_count": null,
   "id": "fc8fac6d",
   "metadata": {},
   "outputs": [],
   "source": []
  },
  {
   "cell_type": "code",
   "execution_count": 80,
   "id": "e3eb2ba1",
   "metadata": {},
   "outputs": [
    {
     "ename": "OperationalError",
     "evalue": "table transactions has no column named product_id",
     "output_type": "error",
     "traceback": [
      "\u001b[0;31m---------------------------------------------------------------------------\u001b[0m",
      "\u001b[0;31mOperationalError\u001b[0m                          Traceback (most recent call last)",
      "Input \u001b[0;32mIn [80]\u001b[0m, in \u001b[0;36m<module>\u001b[0;34m\u001b[0m\n\u001b[0;32m----> 1\u001b[0m \u001b[43mcur\u001b[49m\u001b[38;5;241;43m.\u001b[39;49m\u001b[43mexecute\u001b[49m\u001b[43m(\u001b[49m\n\u001b[1;32m      2\u001b[0m \u001b[43m    \u001b[49m\u001b[38;5;124;43;03m\"\"\"INSERT INTO transactions (product_id, unit_price, quantity, datetime)\u001b[39;49;00m\n\u001b[1;32m      3\u001b[0m \u001b[38;5;124;43;03m     VALUES (:product_id, :unit_price, :quantity, :datetime);\"\"\"\u001b[39;49;00m\u001b[43m,\u001b[49m\u001b[43m \u001b[49m\n\u001b[1;32m      4\u001b[0m \u001b[43m    \u001b[49m\u001b[43mrecords\u001b[49m\u001b[43m[\u001b[49m\u001b[38;5;241;43m0\u001b[39;49m\u001b[43m]\u001b[49m\n\u001b[1;32m      5\u001b[0m \u001b[43m)\u001b[49m\n",
      "\u001b[0;31mOperationalError\u001b[0m: table transactions has no column named product_id"
     ]
    }
   ],
   "source": [
    "cur.execute(\n",
    "    \"\"\"INSERT INTO transactions (product_id, unit_price, quantity, datetime)\n",
    "     VALUES (:product_id, :unit_price, :quantity, :datetime);\"\"\", \n",
    "    records[0]\n",
    ")"
   ]
  },
  {
   "cell_type": "code",
   "execution_count": null,
   "id": "a7af8870",
   "metadata": {},
   "outputs": [],
   "source": [
    "insert_into = ''' INSERT INTO transactions(product_id , unit_price, quantity, datetime)\n",
    "          VALUES(?,?,?,?) '''\n",
    "cur = conn.cursor()\n",
    "cur.execute(insert_into, records[0])\n",
    "conn.commit()"
   ]
  },
  {
   "cell_type": "code",
   "execution_count": 67,
   "id": "b7265147",
   "metadata": {},
   "outputs": [
    {
     "data": {
      "text/plain": [
       "<sqlite3.Cursor at 0x7fa49b39a9d0>"
      ]
     },
     "execution_count": 67,
     "metadata": {},
     "output_type": "execute_result"
    }
   ],
   "source": [
    "import sqlite3\n",
    " \n",
    "# Connecting to sqlite\n",
    "# connection object\n",
    "connection_obj = sqlite3.connect('geek.db')\n",
    " \n",
    "# cursor object\n",
    "cursor_obj = connection_obj.cursor()\n",
    " \n",
    "# Drop the GEEK table if already exists.\n",
    "cursor_obj.execute(\"DROP TABLE IF EXISTS transactions;\")"
   ]
  },
  {
   "cell_type": "code",
   "execution_count": 78,
   "id": "2faf08ae",
   "metadata": {},
   "outputs": [
    {
     "data": {
      "text/plain": [
       "<sqlite3.Cursor at 0x7fa49b39a9d0>"
      ]
     },
     "execution_count": 78,
     "metadata": {},
     "output_type": "execute_result"
    }
   ],
   "source": []
  },
  {
   "cell_type": "code",
   "execution_count": null,
   "id": "4ff18c7b",
   "metadata": {},
   "outputs": [],
   "source": []
  }
 ],
 "metadata": {
  "kernelspec": {
   "display_name": "Python 3 (ipykernel)",
   "language": "python",
   "name": "python3"
  },
  "language_info": {
   "codemirror_mode": {
    "name": "ipython",
    "version": 3
   },
   "file_extension": ".py",
   "mimetype": "text/x-python",
   "name": "python",
   "nbconvert_exporter": "python",
   "pygments_lexer": "ipython3",
   "version": "3.9.7"
  }
 },
 "nbformat": 4,
 "nbformat_minor": 5
}
